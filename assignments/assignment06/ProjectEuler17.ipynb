{
 "cells": [
  {
   "cell_type": "markdown",
   "metadata": {
    "nbgrader": {}
   },
   "source": [
    "# Project Euler: Problem 17"
   ]
  },
  {
   "cell_type": "markdown",
   "metadata": {
    "nbgrader": {}
   },
   "source": [
    "https://projecteuler.net/problem=17\n",
    "\n",
    "If the numbers 1 to 5 are written out in words: one, two, three, four, five, then there are 3 + 3 + 5 + 4 + 4 = 19 letters used in total.\n",
    "\n",
    "If all the numbers from 1 to 1000 (one thousand) inclusive were written out in words, how many letters would be used?\n",
    "\n",
    "\n",
    "NOTE: Do not count spaces or hyphens. For example, 342 (three hundred and forty-two) contains 23 letters and 115 (one hundred and fifteen) contains 20 letters. The use of \"and\" when writing out numbers is in compliance with British usage."
   ]
  },
  {
   "cell_type": "markdown",
   "metadata": {
    "nbgrader": {}
   },
   "source": [
    "First write a `number_to_words(n)` function that takes an integer `n` between 1 and 1000 inclusive and returns a list of words for the number as described above"
   ]
  },
  {
   "cell_type": "code",
   "execution_count": 159,
   "metadata": {
    "collapsed": true
   },
   "outputs": [],
   "source": [
    "import numpy as np"
   ]
  },
  {
   "cell_type": "code",
   "execution_count": 168,
   "metadata": {
    "collapsed": false,
    "nbgrader": {
     "checksum": "790b69a83b63d5a31b5fac1451dd3b54",
     "solution": true
    }
   },
   "outputs": [],
   "source": [
    "def number_to_words(n):\n",
    "    \"\"\"Given a number n between 1-1000 inclusive return a list of words for the number.\"\"\"\n",
    "    # YOUR CODE HERE\n",
    "    #raise NotImplementedError()\n",
    "    ones=['one','two','three','four','five','six','seven','eight','nine','ten']\n",
    "    teens=['eleven','twelve','thirteen','fourteen','fifteen','sixteen','seventeen','eighteen','nineteen']\n",
    "    tens=['twenty','thirty','forty','fifty','sixty','seventy','eighty','ninety']\n",
    "    #obivous what if statements do so not going comment everything\n",
    "    if n<=10:\n",
    "        x=ones[n-1]\n",
    "    if 10<n<20:\n",
    "        x=teens[n-11]\n",
    "    if n!=10 and n<100 and n%10==0:\n",
    "        x=tens[int(n/10)-2]\n",
    "    if 20<n<30:\n",
    "        x=tens[0]+'-'+ones[n%20-1]\n",
    "    if 30<n<40:\n",
    "        x=tens[1]+'-'+ones[n%30-1]\n",
    "    if 40<n<50:\n",
    "        x=tens[2]+'-'+ones[n%40-1]\n",
    "    if 50<n<60:\n",
    "        x=tens[3]+'-'+ones[n%50-1]\n",
    "    if 60<n<70:\n",
    "        x=tens[4]+'-'+ones[n%60-1]\n",
    "    if 70<n<80:\n",
    "        x=tens[5]+'-'+ones[n%70-1]\n",
    "    if 80<n<90:\n",
    "        x=tens[6]+'-'+ones[n%80-1]\n",
    "    if 90<n<100:\n",
    "        x=tens[7]+'-'+ones[n%90-1]\n",
    "    if 100<=n<1000:\n",
    "        a = str(n)\n",
    "        b = ones[int(a[0])-1]+' hundred and'\n",
    "        if n%100==0:\n",
    "            x = ones[int(a[0])-1]+' hundred'\n",
    "        else:\n",
    "            if int(a[1::])<=10:\n",
    "                x=b+' '+ones[int(a[1::])-1]\n",
    "            if 10<int(a[1::])<20:\n",
    "                x=b+' '+teens[int(a[1::])-11]\n",
    "            if int(a[1::])!=10 and int(a[1::])<100 and int(a[1::])%10==0:\n",
    "                x=b+' '+tens[int(int(a[1::])/10)-2]\n",
    "            if 20<int(a[1::])<30:\n",
    "                x=b+' '+tens[0]+'-'+ones[int(a[1::])%20-1]\n",
    "            if 30<int(a[1::])<40:\n",
    "                x=b+' '+tens[1]+'-'+ones[int(a[1::])%30-1]\n",
    "            if 40<int(a[1::])<50:\n",
    "                x=b+' '+tens[2]+'-'+ones[int(a[1::])%40-1]\n",
    "            if 50<int(a[1::])<60:\n",
    "                x=b+' '+tens[3]+'-'+ones[int(a[1::])%50-1]\n",
    "            if 60<int(a[1::])<70:\n",
    "                x=b+' '+tens[4]+'-'+ones[int(a[1::])%60-1]\n",
    "            if 70<int(a[1::])<80:\n",
    "                x=b+' '+tens[5]+'-'+ones[int(a[1::])%70-1]\n",
    "            if 80<int(a[1::])<90:\n",
    "                x=b+' '+tens[6]+'-'+ones[int(a[1::])%80-1]\n",
    "            if 90<int(a[1::])<100:\n",
    "                x=b+' '+tens[7]+'-'+ones[int(a[1::])%90-1] \n",
    "    if n==1000:\n",
    "        x=\"one thousand\"\n",
    "    return str(x)\n",
    "#number_to_words(999)"
   ]
  },
  {
   "cell_type": "markdown",
   "metadata": {
    "nbgrader": {}
   },
   "source": [
    "Now write a set of `assert` tests for your `number_to_words` function that verifies that it is working as expected."
   ]
  },
  {
   "cell_type": "code",
   "execution_count": 161,
   "metadata": {
    "collapsed": false,
    "deletable": false,
    "nbgrader": {
     "checksum": "6cff4e8e53b15273846c3aecaea84a3d",
     "solution": true
    }
   },
   "outputs": [],
   "source": [
    "# YOUR CODE HERE\n",
    "#raise NotImplementedError()\n",
    "assert number_to_words(5) == 'five'\n",
    "assert number_to_words(100) == 'one hundred'\n",
    "assert number_to_words(435) == 'four hundred and thirty-five'"
   ]
  },
  {
   "cell_type": "code",
   "execution_count": 162,
   "metadata": {
    "collapsed": true,
    "deletable": false,
    "nbgrader": {
     "checksum": "2c71c0f9dbe2a57b1ddc17bf544d86ed",
     "grade": true,
     "grade_id": "projecteuler17a",
     "points": 4
    }
   },
   "outputs": [],
   "source": [
    "assert True # use this for grading the number_to_words tests."
   ]
  },
  {
   "cell_type": "markdown",
   "metadata": {
    "nbgrader": {}
   },
   "source": [
    "Now define a `count_letters(n)` that returns the number of letters used to write out the words for all of the the numbers `1` to `n` inclusive."
   ]
  },
  {
   "cell_type": "code",
   "execution_count": 163,
   "metadata": {
    "collapsed": false,
    "nbgrader": {
     "checksum": "be228a805b41eda2b30887a53523f76b",
     "solution": true
    }
   },
   "outputs": [],
   "source": [
    "def count_letters(n):\n",
    "    \"\"\"Count the number of letters used to write out the words for 1-n inclusive.\"\"\"\n",
    "    # YOUR CODE HERE\n",
    "    #raise NotImplementedError()\n",
    "    l = []\n",
    "    lit = np.ones([len(range(n))])\n",
    "    #puts all the written out numbers in a list\n",
    "    for i in range(n):\n",
    "        l.append(number_to_words(i+1))\n",
    "    #reomoves hyphens\n",
    "    y = [k.replace('-','') for k in l]\n",
    "    #removes spaces\n",
    "    z=[m.replace(' ','') for m in y]\n",
    "    #puts the length of each word w/out spaces/hyphens in array\n",
    "    for j in range(n):\n",
    "        lit[j]=len(z[j])\n",
    "    #returns sum of all lengths in array lit\n",
    "    return sum(lit)"
   ]
  },
  {
   "cell_type": "markdown",
   "metadata": {
    "nbgrader": {}
   },
   "source": [
    "Now write a set of `assert` tests for your `count_letters` function that verifies that it is working as expected."
   ]
  },
  {
   "cell_type": "code",
   "execution_count": 164,
   "metadata": {
    "collapsed": false,
    "deletable": false,
    "nbgrader": {
     "checksum": "6cff4e8e53b15273846c3aecaea84a3d",
     "solution": true
    }
   },
   "outputs": [],
   "source": [
    "# YOUR CODE HERE\n",
    "#raise NotImplementedError()\n",
    "assert count_letters(1) == 3\n",
    "assert count_letters(2) == 6\n",
    "assert count_letters(5) == 19"
   ]
  },
  {
   "cell_type": "code",
   "execution_count": 165,
   "metadata": {
    "collapsed": true,
    "deletable": false,
    "nbgrader": {
     "checksum": "3a06c9610681f0174008f2976e310e0a",
     "grade": true,
     "grade_id": "projecteuler17b",
     "points": 4
    }
   },
   "outputs": [],
   "source": [
    "assert True # use this for grading the count_letters tests."
   ]
  },
  {
   "cell_type": "markdown",
   "metadata": {
    "nbgrader": {}
   },
   "source": [
    "Finally used your `count_letters` function to solve the original question."
   ]
  },
  {
   "cell_type": "code",
   "execution_count": 166,
   "metadata": {
    "collapsed": false,
    "deletable": false,
    "nbgrader": {
     "checksum": "6cff4e8e53b15273846c3aecaea84a3d",
     "solution": true
    }
   },
   "outputs": [
    {
     "data": {
      "text/plain": [
       "21124.0"
      ]
     },
     "execution_count": 166,
     "metadata": {},
     "output_type": "execute_result"
    }
   ],
   "source": [
    "# YOUR CODE HERE\n",
    "#raise NotImplementedError()\n",
    "count_letters(1000)"
   ]
  },
  {
   "cell_type": "code",
   "execution_count": 167,
   "metadata": {
    "collapsed": true,
    "deletable": false,
    "nbgrader": {
     "checksum": "a136658e13c4f1154caf307a2e852f99",
     "grade": true,
     "grade_id": "projecteuler17c",
     "points": 2
    }
   },
   "outputs": [],
   "source": [
    "assert True # use this for gradig the answer to the original question."
   ]
  }
 ],
 "metadata": {
  "kernelspec": {
   "display_name": "Python 3",
   "language": "python",
   "name": "python3"
  },
  "language_info": {
   "codemirror_mode": {
    "name": "ipython",
    "version": 3
   },
   "file_extension": ".py",
   "mimetype": "text/x-python",
   "name": "python",
   "nbconvert_exporter": "python",
   "pygments_lexer": "ipython3",
   "version": "3.4.0"
  }
 },
 "nbformat": 4,
 "nbformat_minor": 0
}
