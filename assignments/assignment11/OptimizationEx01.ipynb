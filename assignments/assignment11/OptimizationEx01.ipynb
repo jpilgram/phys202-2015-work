{
 "cells": [
  {
   "cell_type": "markdown",
   "metadata": {
    "nbgrader": {}
   },
   "source": [
    "# Optimization Exercise 1"
   ]
  },
  {
   "cell_type": "markdown",
   "metadata": {
    "nbgrader": {}
   },
   "source": [
    "## Imports"
   ]
  },
  {
   "cell_type": "code",
   "execution_count": 1,
   "metadata": {
    "collapsed": true,
    "nbgrader": {}
   },
   "outputs": [],
   "source": [
    "%matplotlib inline\n",
    "import matplotlib.pyplot as plt\n",
    "import numpy as np\n",
    "import scipy.optimize as opt"
   ]
  },
  {
   "cell_type": "markdown",
   "metadata": {
    "nbgrader": {}
   },
   "source": [
    "## Hat potential"
   ]
  },
  {
   "cell_type": "markdown",
   "metadata": {
    "nbgrader": {}
   },
   "source": [
    "The following potential is often used in Physics and other fields to describe symmetry breaking and is often known as the \"hat potential\":\n",
    "\n",
    "$$ V(x) = -a x^2 + b x^4 $$\n",
    "\n",
    "Write a function `hat(x,a,b)` that returns the value of this function:"
   ]
  },
  {
   "cell_type": "code",
   "execution_count": 2,
   "metadata": {
    "collapsed": true,
    "deletable": false,
    "nbgrader": {
     "checksum": "6cff4e8e53b15273846c3aecaea84a3d",
     "solution": true
    }
   },
   "outputs": [],
   "source": [
    "# YOUR CODE HERE\n",
    "#raise NotImplementedError()\n",
    "def hat(x, a, b):\n",
    "    return -a*x**2+b*x**4"
   ]
  },
  {
   "cell_type": "code",
   "execution_count": 3,
   "metadata": {
    "collapsed": false,
    "deletable": false,
    "nbgrader": {
     "checksum": "7204bd97cd003430289f171b6ba70d63",
     "grade": true,
     "grade_id": "optimizationex01a",
     "points": 2
    }
   },
   "outputs": [],
   "source": [
    "assert hat(0.0, 1.0, 1.0)==0.0\n",
    "assert hat(0.0, 1.0, 1.0)==0.0\n",
    "assert hat(1.0, 10.0, 1.0)==-9.0"
   ]
  },
  {
   "cell_type": "markdown",
   "metadata": {
    "nbgrader": {}
   },
   "source": [
    "Plot this function over the range $x\\in\\left[-3,3\\right]$ with $b=1.0$ and $a=5.0$:"
   ]
  },
  {
   "cell_type": "code",
   "execution_count": 4,
   "metadata": {
    "collapsed": true,
    "nbgrader": {}
   },
   "outputs": [],
   "source": [
    "a = 5.0\n",
    "b = 1.0"
   ]
  },
  {
   "cell_type": "code",
   "execution_count": 10,
   "metadata": {
    "collapsed": false,
    "deletable": false,
    "nbgrader": {
     "checksum": "6cff4e8e53b15273846c3aecaea84a3d",
     "solution": true
    }
   },
   "outputs": [
    {
     "data": {
      "image/png": "[encoded data removed]",
      "text/plain": [
       "<matplotlib.figure.Figure at 0x7f24df595ef0>"
      ]
     },
     "metadata": {},
     "output_type": "display_data"
    }
   ],
   "source": [
    "# YOUR CODE HERE\n",
    "#raise NotImplementedError()\n",
    "x = np.linspace(-3,3,40)\n",
    "plt.plot(x, hat(x,a,b))\n",
    "plt.box(False)\n",
    "plt.title('Hat Potential')\n",
    "plt.xlabel('$x$')\n",
    "plt.ylabel('$V(x)$');"
   ]
  },
  {
   "cell_type": "code",
   "execution_count": 11,
   "metadata": {
    "collapsed": true,
    "deletable": false,
    "nbgrader": {
     "checksum": "bd49ce2f030e3366ee640213f26fdaa6",
     "grade": true,
     "grade_id": "optimizationex01b",
     "points": 2
    }
   },
   "outputs": [],
   "source": [
    "assert True # leave this to grade the plot"
   ]
  },
  {
   "cell_type": "markdown",
   "metadata": {
    "nbgrader": {}
   },
   "source": [
    "Write code that finds the two local minima of this function for $b=1.0$ and $a=5.0$.\n",
    "\n",
    "* Use `scipy.optimize.minimize` to find the minima. You will have to think carefully about how to get this function to find both minima.\n",
    "* Print the x values of the minima.\n",
    "* Plot the function as a blue line.\n",
    "* On the same axes, show the minima as red circles.\n",
    "* Customize your visualization to make it beatiful and effective."
   ]
  },
  {
   "cell_type": "code",
   "execution_count": 12,
   "metadata": {
    "collapsed": false,
    "deletable": false,
    "nbgrader": {
     "checksum": "6cff4e8e53b15273846c3aecaea84a3d",
     "solution": true
    }
   },
   "outputs": [
    {
     "name": "stdout",
     "output_type": "stream",
     "text": [
      "The local minima are -1.581139 and 1.581139\n"
     ]
    },
    {
     "data": {
      "image/png": "[encoded data removed]",
      "text/plain": [
       "<matplotlib.figure.Figure at 0x7f24defb82b0>"
      ]
     },
     "metadata": {},
     "output_type": "display_data"
    }
   ],
   "source": [
    "# YOUR CODE HERE\n",
    "#raise NotImplementedError()\n",
    "min1 = opt.minimize(hat, (-1.5), args=(a,b), bounds = [(-3,0)])\n",
    "min2 = opt.minimize(hat, (1.5), args=(a,b), bounds = [(0,3)])\n",
    "print ('The local minima are %f and %f' %(min1['x'][0], min2['x'][0]))  \n",
    "plt.plot(x, hat(x,a,b), label='Hat Potential')\n",
    "plt.scatter(min1['x'][0], hat(min1['x'][0],a,b), color = 'r',label = 'local min 1')\n",
    "plt.scatter(min2['x'][0], hat(min2['x'],a,b), color = 'r',label = 'local min 2')\n",
    "plt.box(False)\n",
    "plt.tick_params(axis = 'x', top = 'off')\n",
    "plt.tick_params(axis = 'y', right = 'off')\n",
    "plt.title('Hat Potential')\n",
    "plt.legend();"
   ]
  },
  {
   "cell_type": "code",
   "execution_count": 8,
   "metadata": {
    "collapsed": true,
    "deletable": false,
    "nbgrader": {
     "checksum": "235361d4c954cf9fd6a8ecef309b3a44",
     "grade": true,
     "grade_id": "optimizationex01c",
     "points": 4
    }
   },
   "outputs": [],
   "source": [
    "assert True # leave this for grading the plot"
   ]
  },
  {
   "cell_type": "markdown",
   "metadata": {
    "nbgrader": {}
   },
   "source": [
    "To check your numerical results, find the locations of the minima analytically. Show and describe the steps in your derivation using LaTeX equations. Evaluate the location of the minima using the above parameters."
   ]
  },
  {
   "cell_type": "markdown",
   "metadata": {
    "deletable": false,
    "nbgrader": {
     "checksum": "d7d37614ffa0d469a42ff3fd121335f2",
     "grade": true,
     "grade_id": "optimizationex01d",
     "points": 2,
     "solution": true
    }
   },
   "source": [
    "Our equation is:\n",
    "\\begin{equation*}\n",
    "V(x) = -5x^2+x^4\n",
    "\\end{equation*}\n",
    "\n",
    "To solve for maxima and minima values you must take the derivative of your function.\n",
    "\n",
    "\\begin{equation*}\n",
    "\\frac{dV}{dx} = -10x+4x^3\n",
    "\\end{equation*}\n",
    "\n",
    "Set this derivative equal to zero and solve for x.\n",
    "\n",
    "\n",
    "\\begin{equation*}\\\\\n",
    "0 = x(-10+4x^2)\\\\\n",
    "x = 0\\\\\n",
    "x = \\pm \\sqrt{\\frac{10}{4}}\\\\\n",
    "\\end{equation*}\n",
    "\n",
    "x = 0 by the graph is a local maxima.\n",
    "\n",
    "$$\\pm \\sqrt{\\frac{10}{4}} = \\pm 1.5811388$$ \n",
    "\n",
    "These are our minima!!"
   ]
  }
 ],
 "metadata": {
  "kernelspec": {
   "display_name": "Python 3",
   "language": "python",
   "name": "python3"
  },
  "language_info": {
   "codemirror_mode": {
    "name": "ipython",
    "version": 3
   },
   "file_extension": ".py",
   "mimetype": "text/x-python",
   "name": "python",
   "nbconvert_exporter": "python",
   "pygments_lexer": "ipython3",
   "version": "3.4.0"
  }
 },
 "nbformat": 4,
 "nbformat_minor": 0
}
