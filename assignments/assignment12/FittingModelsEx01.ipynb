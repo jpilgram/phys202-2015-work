{
 "cells": [
  {
   "cell_type": "markdown",
   "metadata": {
    "nbgrader": {}
   },
   "source": [
    "# Fitting Models Exercise 1"
   ]
  },
  {
   "cell_type": "markdown",
   "metadata": {
    "nbgrader": {}
   },
   "source": [
    "## Imports"
   ]
  },
  {
   "cell_type": "code",
   "execution_count": 1,
   "metadata": {
    "collapsed": true,
    "nbgrader": {}
   },
   "outputs": [],
   "source": [
    "%matplotlib inline\n",
    "import matplotlib.pyplot as plt\n",
    "import numpy as np\n",
    "import scipy.optimize as opt"
   ]
  },
  {
   "cell_type": "markdown",
   "metadata": {
    "nbgrader": {}
   },
   "source": [
    "## Fitting a quadratic curve"
   ]
  },
  {
   "cell_type": "markdown",
   "metadata": {
    "nbgrader": {}
   },
   "source": [
    "For this problem we are going to work with the following model:\n",
    "\n",
    "$$ y_{model}(x) = a x^2 + b x + c $$\n",
    "\n",
    "The true values of the model parameters are as follows:"
   ]
  },
  {
   "cell_type": "code",
   "execution_count": 2,
   "metadata": {
    "collapsed": true,
    "nbgrader": {}
   },
   "outputs": [],
   "source": [
    "a_true = 0.5\n",
    "b_true = 2.0\n",
    "c_true = -4.0"
   ]
  },
  {
   "cell_type": "markdown",
   "metadata": {
    "nbgrader": {}
   },
   "source": [
    "First, generate a dataset using this model using these parameters and the following characteristics:\n",
    "\n",
    "* For your $x$ data use 30 uniformly spaced points between $[-5,5]$.\n",
    "* Add a noise term to the $y$ value at each point that is drawn from a normal distribution with zero mean and standard deviation 2.0. Make sure you add a different random number to each point (see the `size` argument of `np.random.normal`).\n",
    "\n",
    "After you generate the data, make a plot of the raw data (use points)."
   ]
  },
  {
   "cell_type": "code",
   "execution_count": 27,
   "metadata": {
    "collapsed": false,
    "deletable": false,
    "nbgrader": {
     "checksum": "6cff4e8e53b15273846c3aecaea84a3d",
     "solution": true
    }
   },
   "outputs": [
    {
     "data": {
      "image/png": "[encoded data removed]",
      "text/plain": [
       "<matplotlib.figure.Figure at 0x7febc103e4a8>"
      ]
     },
     "metadata": {},
     "output_type": "display_data"
    }
   ],
   "source": [
    "# YOUR CODE HERE\n",
    "#raise NotImplementedError()\n",
    "x = np.linspace(-5,5,30)\n",
    "dy = 2.0\n",
    "np.random.seed(0)\n",
    "y = a_true*x**2 + b_true*x + c_true + np.random.normal(0.0, dy, size = 30)\n",
    "plt.scatter(x,y)\n",
    "plt.title('Random Data')\n",
    "plt.box(False);"
   ]
  },
  {
   "cell_type": "code",
   "execution_count": 28,
   "metadata": {
    "collapsed": true,
    "deletable": false,
    "nbgrader": {
     "checksum": "3acfeb5975cc4a690bc60e56103ce367",
     "grade": true,
     "grade_id": "fittingmodelsex01a",
     "points": 5
    }
   },
   "outputs": [],
   "source": [
    "assert True # leave this cell for grading the raw data generation and plot"
   ]
  },
  {
   "cell_type": "markdown",
   "metadata": {
    "nbgrader": {}
   },
   "source": [
    "Now fit the model to the dataset to recover estimates for the model's parameters:\n",
    "\n",
    "* Print out the estimates and uncertainties of each parameter.\n",
    "* Plot the raw data and best fit of the model."
   ]
  },
  {
   "cell_type": "code",
   "execution_count": 38,
   "metadata": {
    "collapsed": false,
    "deletable": false,
    "nbgrader": {
     "checksum": "6cff4e8e53b15273846c3aecaea84a3d",
     "solution": true
    }
   },
   "outputs": [
    {
     "name": "stdout",
     "output_type": "stream",
     "text": [
      "a = 0.582 +/- 0.046\n",
      "b = 1.845 +/- 0.122\n",
      "c = -3.843 +/- 0.548\n"
     ]
    },
    {
     "data": {
      "image/png": "[encoded data removed]",
      "text/plain": [
       "<matplotlib.figure.Figure at 0x7febc0cfac50>"
      ]
     },
     "metadata": {},
     "output_type": "display_data"
    }
   ],
   "source": [
    "# YOUR CODE HERE\n",
    "#raise NotImplementedError()\n",
    "def chi2(theta, x, y, dy):\n",
    "    #theta = [a,b,c]\n",
    "    return np.sum(((y - theta[0]*(x**2) - theta[1]*x - theta[2])/dy)**2)\n",
    "\n",
    "guess = [0.4, 2.5, -3.8]\n",
    "sol = opt.minimize(chi2, guess, args=(x,y,dy))\n",
    "bestfit = sol.x\n",
    "\n",
    "def uncert(theta, x, y, dy):\n",
    "    return (y - theta[0]*(x**2) - theta[1]*x - theta[2])/dy\n",
    "\n",
    "deviation = opt.leastsq(uncert, guess, args=(x, y, dy), full_output=True)\n",
    "\n",
    "best = deviation[0]\n",
    "best_div = deviation[1]\n",
    "\n",
    "print('a = {0:.3f} +/- {1:.3f}'.format(best[0], np.sqrt(best_div[0,0])))\n",
    "print('b = {0:.3f} +/- {1:.3f}'.format(best[1], np.sqrt(best_div[1,1])))\n",
    "print('c = {0:.3f} +/- {1:.3f}'.format(best[2], np.sqrt(best_div[2,2])))\n",
    "\n",
    "yfit = bestfit[0]*(x**2) + bestfit[1]*x + bestfit[2]\n",
    "plt.plot(x,yfit)\n",
    "plt.scatter(x,y)\n",
    "plt.title('Random Data with Best Fit Curve')\n",
    "plt.box(False);\n"
   ]
  },
  {
   "cell_type": "code",
   "execution_count": 6,
   "metadata": {
    "collapsed": true,
    "deletable": false,
    "nbgrader": {
     "checksum": "5c7b35cc43322f076fb2acf1cddfc759",
     "grade": true,
     "grade_id": "fittingmodelsex01b",
     "points": 5
    }
   },
   "outputs": [],
   "source": [
    "assert True # leave this cell for grading the fit; should include a plot and printout of the parameters+errors"
   ]
  }
 ],
 "metadata": {
  "kernelspec": {
   "display_name": "Python 3",
   "language": "python",
   "name": "python3"
  },
  "language_info": {
   "codemirror_mode": {
    "name": "ipython",
    "version": 3
   },
   "file_extension": ".py",
   "mimetype": "text/x-python",
   "name": "python",
   "nbconvert_exporter": "python",
   "pygments_lexer": "ipython3",
   "version": "3.4.0"
  }
 },
 "nbformat": 4,
 "nbformat_minor": 0
}
