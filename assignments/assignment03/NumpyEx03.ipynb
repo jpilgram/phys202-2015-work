{
 "cells": [
  {
   "cell_type": "markdown",
   "metadata": {
    "nbgrader": {}
   },
   "source": [
    "# Numpy Exercise 3"
   ]
  },
  {
   "cell_type": "markdown",
   "metadata": {
    "nbgrader": {}
   },
   "source": [
    "## Imports"
   ]
  },
  {
   "cell_type": "code",
   "execution_count": 79,
   "metadata": {
    "collapsed": true,
    "nbgrader": {}
   },
   "outputs": [],
   "source": [
    "import numpy as np\n",
    "%matplotlib inline\n",
    "import matplotlib.pyplot as plt\n",
    "import seaborn as sns"
   ]
  },
  {
   "cell_type": "code",
   "execution_count": 80,
   "metadata": {
    "collapsed": false,
    "nbgrader": {}
   },
   "outputs": [],
   "source": [
    "import antipackage\n",
    "import github.ellisonbg.misc.vizarray as va"
   ]
  },
  {
   "cell_type": "markdown",
   "metadata": {
    "nbgrader": {}
   },
   "source": [
    "## Geometric Brownian motion"
   ]
  },
  {
   "cell_type": "markdown",
   "metadata": {
    "nbgrader": {}
   },
   "source": [
    "Here is a function that produces standard Brownian motion using NumPy. This is also known as a [Wiener Process](http://en.wikipedia.org/wiki/Wiener_process)."
   ]
  },
  {
   "cell_type": "code",
   "execution_count": 81,
   "metadata": {
    "collapsed": false,
    "nbgrader": {}
   },
   "outputs": [],
   "source": [
    "def brownian(maxt, n):\n",
    "    \"\"\"Return one realization of a Brownian (Wiener) process with n steps and a max time of t.\"\"\"\n",
    "    t = np.linspace(0.0,maxt,n)\n",
    "    h = t[1]-t[0]\n",
    "    Z = np.random.normal(0.0,1.0,n-1)\n",
    "    dW = np.sqrt(h)*Z\n",
    "    W = np.zeros(n)\n",
    "    W[1:] = dW.cumsum()\n",
    "    return t, W"
   ]
  },
  {
   "cell_type": "markdown",
   "metadata": {
    "nbgrader": {}
   },
   "source": [
    "Call the `brownian` function to simulate a Wiener process with `1000` steps and max time of `1.0`. Save the results as two arrays `t` and `W`."
   ]
  },
  {
   "cell_type": "code",
   "execution_count": 82,
   "metadata": {
    "collapsed": false,
    "deletable": false,
    "nbgrader": {
     "checksum": "6cff4e8e53b15273846c3aecaea84a3d",
     "grade": false,
     "grade_id": "numpyex03a",
     "points": 2,
     "solution": true
    }
   },
   "outputs": [],
   "source": [
    "# YOUR CODE HERE\n",
    "#raise NotImplementedError()\n",
    "a = brownian(1.0,1000)\n",
    "t = a[0]\n",
    "W = a[1]"
   ]
  },
  {
   "cell_type": "code",
   "execution_count": 83,
   "metadata": {
    "collapsed": false,
    "deletable": false,
    "nbgrader": {
     "checksum": "b671a523fd8cb7621c2445244189d5a4",
     "grade": true,
     "grade_id": "numpyex03a",
     "points": 2
    }
   },
   "outputs": [],
   "source": [
    "assert isinstance(t, np.ndarray)\n",
    "assert isinstance(W, np.ndarray)\n",
    "assert t.dtype==np.dtype(float)\n",
    "assert W.dtype==np.dtype(float)\n",
    "assert len(t)==len(W)==1000"
   ]
  },
  {
   "cell_type": "markdown",
   "metadata": {
    "nbgrader": {}
   },
   "source": [
    "Visualize the process using `plt.plot` with `t` on the x-axis and `W(t)` on the y-axis. Label your x and y axes."
   ]
  },
  {
   "cell_type": "code",
   "execution_count": 84,
   "metadata": {
    "collapsed": false,
    "deletable": false,
    "nbgrader": {
     "checksum": "6cff4e8e53b15273846c3aecaea84a3d",
     "grade": false,
     "grade_id": "numpyex03b",
     "points": 2,
     "solution": true
    }
   },
   "outputs": [
    {
     "data": {
      "text/plain": [
       "<matplotlib.text.Text at 0x7f50755c3f90>"
      ]
     },
     "execution_count": 84,
     "metadata": {},
     "output_type": "execute_result"
    },
    {
     "data": {
      "image/png": "[encoded data removed]",
      "text/plain": [
       "<matplotlib.figure.Figure at 0x7f5075574bd0>"
      ]
     },
     "metadata": {},
     "output_type": "display_data"
    }
   ],
   "source": [
    "# YOUR CODE HERE\n",
    "#raise NotImplementedError()\n",
    "plt.plot(t,W)\n",
    "plt.title('Wiener Process Simulation')\n",
    "plt.xlabel('Time')\n",
    "plt.ylabel('W(t)')"
   ]
  },
  {
   "cell_type": "code",
   "execution_count": 85,
   "metadata": {
    "collapsed": true,
    "deletable": false,
    "nbgrader": {
     "checksum": "1a35840ca7eaf864f9201ee4e0d947e0",
     "grade": true,
     "grade_id": "numpyex03b",
     "points": 2
    }
   },
   "outputs": [],
   "source": [
    "assert True # this is for grading"
   ]
  },
  {
   "cell_type": "markdown",
   "metadata": {
    "nbgrader": {}
   },
   "source": [
    "Use `np.diff` to compute the changes at each step of the motion, `dW`, and then compute the mean and standard deviation of those differences."
   ]
  },
  {
   "cell_type": "code",
   "execution_count": 86,
   "metadata": {
    "collapsed": false,
    "deletable": false,
    "nbgrader": {
     "checksum": "6cff4e8e53b15273846c3aecaea84a3d",
     "grade": false,
     "grade_id": "numpyex03c",
     "points": 2,
     "solution": true
    }
   },
   "outputs": [
    {
     "data": {
      "text/plain": [
       "(0.00016663495363132113, 0.032128921029840628)"
      ]
     },
     "execution_count": 86,
     "metadata": {},
     "output_type": "execute_result"
    }
   ],
   "source": [
    "# YOUR CODE HERE\n",
    "#raise NotImplementedError()\n",
    "dW = np.diff(W)\n",
    "dW.mean(), dW.std()"
   ]
  },
  {
   "cell_type": "code",
   "execution_count": 87,
   "metadata": {
    "collapsed": true,
    "deletable": false,
    "nbgrader": {
     "checksum": "b2236af662ecc138c4b78af673b476c1",
     "grade": true,
     "grade_id": "numpyex03c",
     "points": 2
    }
   },
   "outputs": [],
   "source": [
    "assert len(dW)==len(W)-1\n",
    "assert dW.dtype==np.dtype(float)"
   ]
  },
  {
   "cell_type": "markdown",
   "metadata": {
    "nbgrader": {}
   },
   "source": [
    "Write a function that takes $W(t)$ and converts it to geometric Brownian motion using the equation:\n",
    "\n",
    "$$\n",
    "X(t) = X_0 e^{((\\mu - \\sigma^2/2)t + \\sigma W(t))}\n",
    "$$\n",
    "\n",
    "Use Numpy ufuncs and no loops in your function."
   ]
  },
  {
   "cell_type": "code",
   "execution_count": 88,
   "metadata": {
    "collapsed": false,
    "nbgrader": {
     "checksum": "2b05883af2c87bc938fc4f7fe7e35f66",
     "grade": false,
     "grade_id": "numpyex03d",
     "points": 2,
     "solution": true
    }
   },
   "outputs": [],
   "source": [
    "def geo_brownian(t, W, X0, mu, sigma):\n",
    "    \"Return X(t) for geometric brownian motion with drift mu, volatility sigma.\"\"\"\n",
    "    # YOUR CODE HERE\n",
    "    #raise NotImplementedError()\n",
    "    Result = X0*np.exp((mu - 0.5*sigma**2)*t + (sigma*W))\n",
    "    return Result"
   ]
  },
  {
   "cell_type": "code",
   "execution_count": 89,
   "metadata": {
    "collapsed": true,
    "deletable": false,
    "nbgrader": {
     "checksum": "401ffd490410ab0a18612d641e24c02f",
     "grade": true,
     "grade_id": "numpyex03d",
     "points": 2
    }
   },
   "outputs": [],
   "source": [
    "assert True # leave this for grading"
   ]
  },
  {
   "cell_type": "markdown",
   "metadata": {
    "nbgrader": {}
   },
   "source": [
    "Use your function to simulate geometric brownian motion, $X(t)$ for $X_0=1.0$, $\\mu=0.5$ and $\\sigma=0.3$ with the Wiener process you computed above.\n",
    "\n",
    "Visualize the process using `plt.plot` with `t` on the x-axis and `X(t)` on the y-axis. Label your x and y axes."
   ]
  },
  {
   "cell_type": "code",
   "execution_count": 90,
   "metadata": {
    "collapsed": false,
    "deletable": false,
    "nbgrader": {
     "checksum": "6cff4e8e53b15273846c3aecaea84a3d",
     "grade": false,
     "grade_id": "numpyex03f",
     "points": 2,
     "solution": true
    },
    "scrolled": true
   },
   "outputs": [
    {
     "data": {
      "text/plain": [
       "<matplotlib.text.Text at 0x7f50754f7ed0>"
      ]
     },
     "execution_count": 90,
     "metadata": {},
     "output_type": "execute_result"
    },
    {
     "data": {
      "image/png": "[encoded data removed]",
      "text/plain": [
       "<matplotlib.figure.Figure at 0x7f50754a1ed0>"
      ]
     },
     "metadata": {},
     "output_type": "display_data"
    }
   ],
   "source": [
    "# YOUR CODE HERE\n",
    "plt.plot(t , geo_brownian(t, W, 1.0, 0.5, 0.3))\n",
    "plt.title('Geometric Brownian Motion Simulation')\n",
    "plt.xlabel('time')\n",
    "plt.ylabel('X(t)')\n",
    "#raise NotImplementedError()"
   ]
  },
  {
   "cell_type": "code",
   "execution_count": 91,
   "metadata": {
    "collapsed": true,
    "deletable": false,
    "nbgrader": {
     "checksum": "00e3fda54f3eba73d67842cf7f02777a",
     "grade": true,
     "grade_id": "numpyex03e",
     "points": 2
    }
   },
   "outputs": [],
   "source": [
    "assert True # leave this for grading"
   ]
  }
 ],
 "metadata": {
  "kernelspec": {
   "display_name": "Python 2",
   "language": "python",
   "name": "python2"
  },
  "language_info": {
   "codemirror_mode": {
    "name": "ipython",
    "version": 2
   },
   "file_extension": ".py",
   "mimetype": "text/x-python",
   "name": "python",
   "nbconvert_exporter": "python",
   "pygments_lexer": "ipython2",
   "version": "2.7.6"
  }
 },
 "nbformat": 4,
 "nbformat_minor": 0
}
