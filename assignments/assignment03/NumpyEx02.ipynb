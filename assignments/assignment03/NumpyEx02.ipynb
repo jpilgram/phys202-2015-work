{
 "cells": [
  {
   "cell_type": "markdown",
   "metadata": {
    "nbgrader": {}
   },
   "source": [
    "# Numpy Exercise 2"
   ]
  },
  {
   "cell_type": "markdown",
   "metadata": {
    "nbgrader": {}
   },
   "source": [
    "## Imports"
   ]
  },
  {
   "cell_type": "code",
   "execution_count": 3,
   "metadata": {
    "collapsed": true,
    "nbgrader": {}
   },
   "outputs": [],
   "source": [
    "import numpy as np\n",
    "%matplotlib inline\n",
    "import matplotlib.pyplot as plt\n",
    "import seaborn as sns"
   ]
  },
  {
   "cell_type": "markdown",
   "metadata": {
    "nbgrader": {}
   },
   "source": [
    "## Factorial"
   ]
  },
  {
   "cell_type": "markdown",
   "metadata": {
    "nbgrader": {}
   },
   "source": [
    "Write a function that computes the factorial of small numbers using `np.arange` and `np.cumprod`."
   ]
  },
  {
   "cell_type": "code",
   "execution_count": 6,
   "metadata": {
    "collapsed": false,
    "nbgrader": {
     "checksum": "4e72a0f70d32914a77d8d31ae0c2fb5a",
     "solution": true
    }
   },
   "outputs": [],
   "source": [
    "def np_fact(n):\n",
    "    \"\"\"Compute n! = n*(n-1)*...*1 using Numpy.\"\"\"\n",
    "    # YOUR CODE HERE\n",
    "    #raise NotImplementedError()\n",
    "    #creates array with number from 0 to n\n",
    "    a=np.arange(0,n+1,1.0)\n",
    "    #sets first spot in array to 1 (so 0!=1)\n",
    "    a[0]=1\n",
    "    x = np.cumprod(a)\n",
    "    #returns the integer value of the nth spot of the cumulative product array\n",
    "    return int(x[n])"
   ]
  },
  {
   "cell_type": "code",
   "execution_count": 7,
   "metadata": {
    "collapsed": false,
    "deletable": false,
    "nbgrader": {
     "checksum": "fcb54de452abd89e3b1818a34678d4b4",
     "grade": true,
     "grade_id": "numpyex02a",
     "points": 4
    }
   },
   "outputs": [],
   "source": [
    "assert np_fact(0)==1\n",
    "assert np_fact(1)==1\n",
    "assert np_fact(10)==3628800\n",
    "assert [np_fact(i) for i in range(0,11)]==[1,1,2,6,24,120,720,5040,40320,362880,3628800]"
   ]
  },
  {
   "cell_type": "markdown",
   "metadata": {
    "nbgrader": {}
   },
   "source": [
    "Write a function that computes the factorial of small numbers using a Python loop."
   ]
  },
  {
   "cell_type": "code",
   "execution_count": 4,
   "metadata": {
    "collapsed": false,
    "nbgrader": {
     "checksum": "9341aa5eb68a3ce57e5cce1cd9192021",
     "solution": true
    }
   },
   "outputs": [
    {
     "data": {
      "text/plain": [
       "3628800"
      ]
     },
     "execution_count": 4,
     "metadata": {},
     "output_type": "execute_result"
    }
   ],
   "source": [
    "def loop_fact(n):\n",
    "    \"\"\"Compute n! using a Python for loop.\"\"\"\n",
    "    # YOUR CODE HERE\n",
    "    #raise NotImplementedError()\n",
    "    a=1\n",
    "    fact=[1]\n",
    "    #mulitplies each value in the range 0 to n by a\n",
    "    #a redefined as privously mulitplied numbers at end of each iteration\n",
    "    for i in range(1,n+1):\n",
    "        a = i*a\n",
    "        fact.append(a)\n",
    "    return fact[n]     \n",
    "\n",
    "loop_fact(10)"
   ]
  },
  {
   "cell_type": "code",
   "execution_count": 5,
   "metadata": {
    "collapsed": false,
    "deletable": false,
    "nbgrader": {
     "checksum": "a9946f0fdca1abf66ddfb0454ab10113",
     "grade": true,
     "grade_id": "numpyex02b",
     "points": 4
    }
   },
   "outputs": [],
   "source": [
    "assert loop_fact(0)==1\n",
    "assert loop_fact(1)==1\n",
    "assert loop_fact(10)==3628800\n",
    "assert [loop_fact(i) for i in range(0,11)]==[1,1,2,6,24,120,720,5040,40320,362880,3628800]"
   ]
  },
  {
   "cell_type": "markdown",
   "metadata": {
    "nbgrader": {}
   },
   "source": [
    "Use the `%timeit` magic to time both versions of this function for an argument of `50`. The syntax for `%timeit` is:\n",
    "\n",
    "```python\n",
    "%timeit -n1 -r1 function_to_time()\n",
    "```"
   ]
  },
  {
   "cell_type": "code",
   "execution_count": 10,
   "metadata": {
    "collapsed": false,
    "deletable": false,
    "nbgrader": {
     "checksum": "6cff4e8e53b15273846c3aecaea84a3d",
     "solution": true
    }
   },
   "outputs": [
    {
     "name": "stdout",
     "output_type": "stream",
     "text": [
      "1 loops, best of 1: 84.9 µs per loop\n",
      "1 loops, best of 1: 26.9 µs per loop\n"
     ]
    }
   ],
   "source": [
    "# YOUR CODE HERE\n",
    "#raise NotImplementedError()\n",
    "%timeit -n1 -r1 np_fact(50)\n",
    "%timeit -n1 -r1 loop_fact(50)"
   ]
  },
  {
   "cell_type": "markdown",
   "metadata": {
    "nbgrader": {}
   },
   "source": [
    "In the cell below, summarize your timing tests. Which version is faster? Why do you think that version is faster?"
   ]
  },
  {
   "cell_type": "markdown",
   "metadata": {
    "deletable": false,
    "nbgrader": {
     "checksum": "84e52188175a63ea7106817b9b063eef",
     "grade": true,
     "grade_id": "numpyex02c",
     "points": 2,
     "solution": true
    }
   },
   "source": [
    "YOUR ANSWER HERE\n",
    "\n",
    "loop_fact() is faster by about 58 micro seconds. numpy takes more time for these smaller numbers because it has to create each entry in the array then it can do computations where as a loop only has to do the computation with each number as it gets to each number."
   ]
  }
 ],
 "metadata": {
  "kernelspec": {
   "display_name": "Python 2",
   "language": "python",
   "name": "python2"
  },
  "language_info": {
   "codemirror_mode": {
    "name": "ipython",
    "version": 2
   },
   "file_extension": ".py",
   "mimetype": "text/x-python",
   "name": "python",
   "nbconvert_exporter": "python",
   "pygments_lexer": "ipython2",
   "version": "2.7.6"
  }
 },
 "nbformat": 4,
 "nbformat_minor": 0
}
